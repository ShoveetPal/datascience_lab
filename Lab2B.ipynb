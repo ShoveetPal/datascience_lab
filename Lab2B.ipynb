{
 "cells": [
  {
   "cell_type": "code",
   "execution_count": 1,
   "id": "e451344d-0f8e-46aa-9b43-ebb7e2addfbd",
   "metadata": {
    "id": "e451344d-0f8e-46aa-9b43-ebb7e2addfbd"
   },
   "outputs": [],
   "source": [
    "import pandas as pd\n",
    "import numpy as np\n",
    "from sklearn.preprocessing import StandardScaler, MinMaxScaler"
   ]
  },
  {
   "cell_type": "code",
   "execution_count": 17,
   "id": "9c82f185-426d-4d70-b74d-d06a11306492",
   "metadata": {
    "id": "9c82f185-426d-4d70-b74d-d06a11306492",
    "outputId": "0a3b6b38-139e-414b-d690-70d9e278db05"
   },
   "outputs": [
    {
     "data": {
      "text/html": [
       "<div>\n",
       "<style scoped>\n",
       "    .dataframe tbody tr th:only-of-type {\n",
       "        vertical-align: middle;\n",
       "    }\n",
       "\n",
       "    .dataframe tbody tr th {\n",
       "        vertical-align: top;\n",
       "    }\n",
       "\n",
       "    .dataframe thead th {\n",
       "        text-align: right;\n",
       "    }\n",
       "</style>\n",
       "<table border=\"1\" class=\"dataframe\">\n",
       "  <thead>\n",
       "    <tr style=\"text-align: right;\">\n",
       "      <th></th>\n",
       "      <th>name</th>\n",
       "      <th>mpg</th>\n",
       "      <th>cylinders</th>\n",
       "      <th>displacement</th>\n",
       "      <th>horsepower</th>\n",
       "      <th>weight</th>\n",
       "      <th>acceleration</th>\n",
       "      <th>model_year</th>\n",
       "      <th>origin</th>\n",
       "    </tr>\n",
       "  </thead>\n",
       "  <tbody>\n",
       "    <tr>\n",
       "      <th>0</th>\n",
       "      <td>chevrolet chevelle malibu</td>\n",
       "      <td>18.0</td>\n",
       "      <td>8.0</td>\n",
       "      <td>307.0</td>\n",
       "      <td>130.0</td>\n",
       "      <td>3504.0</td>\n",
       "      <td>12.0</td>\n",
       "      <td>70</td>\n",
       "      <td>usa</td>\n",
       "    </tr>\n",
       "    <tr>\n",
       "      <th>1</th>\n",
       "      <td>buick skylark 320</td>\n",
       "      <td>15.0</td>\n",
       "      <td>8.0</td>\n",
       "      <td>350.0</td>\n",
       "      <td>165.0</td>\n",
       "      <td>3693.0</td>\n",
       "      <td>11.5</td>\n",
       "      <td>70</td>\n",
       "      <td>usa</td>\n",
       "    </tr>\n",
       "    <tr>\n",
       "      <th>2</th>\n",
       "      <td>plymouth satellite</td>\n",
       "      <td>18.0</td>\n",
       "      <td>8.0</td>\n",
       "      <td>318.0</td>\n",
       "      <td>150.0</td>\n",
       "      <td>3436.0</td>\n",
       "      <td>11.0</td>\n",
       "      <td>70</td>\n",
       "      <td>usa</td>\n",
       "    </tr>\n",
       "    <tr>\n",
       "      <th>3</th>\n",
       "      <td>amc rebel sst</td>\n",
       "      <td>16.0</td>\n",
       "      <td>8.0</td>\n",
       "      <td>304.0</td>\n",
       "      <td>150.0</td>\n",
       "      <td>3433.0</td>\n",
       "      <td>12.0</td>\n",
       "      <td>70</td>\n",
       "      <td>usa</td>\n",
       "    </tr>\n",
       "    <tr>\n",
       "      <th>4</th>\n",
       "      <td>ford torino</td>\n",
       "      <td>17.0</td>\n",
       "      <td>NaN</td>\n",
       "      <td>302.0</td>\n",
       "      <td>140.0</td>\n",
       "      <td>3449.0</td>\n",
       "      <td>10.5</td>\n",
       "      <td>70</td>\n",
       "      <td>usa</td>\n",
       "    </tr>\n",
       "  </tbody>\n",
       "</table>\n",
       "</div>"
      ],
      "text/plain": [
       "                        name   mpg  cylinders  displacement  horsepower  \\\n",
       "0  chevrolet chevelle malibu  18.0        8.0         307.0       130.0   \n",
       "1          buick skylark 320  15.0        8.0         350.0       165.0   \n",
       "2         plymouth satellite  18.0        8.0         318.0       150.0   \n",
       "3              amc rebel sst  16.0        8.0         304.0       150.0   \n",
       "4                ford torino  17.0        NaN         302.0       140.0   \n",
       "\n",
       "   weight  acceleration  model_year origin  \n",
       "0  3504.0          12.0          70    usa  \n",
       "1  3693.0          11.5          70    usa  \n",
       "2  3436.0          11.0          70    usa  \n",
       "3  3433.0          12.0          70    usa  \n",
       "4  3449.0          10.5          70    usa  "
      ]
     },
     "execution_count": 17,
     "metadata": {},
     "output_type": "execute_result"
    }
   ],
   "source": [
    "ADF=pd.read_csv(\"Automobile.csv\")\n",
    "ADF.head()"
   ]
  },
  {
   "cell_type": "code",
   "execution_count": 18,
   "id": "8aceae47-8c25-4b9e-b77d-c902b464458f",
   "metadata": {
    "id": "8aceae47-8c25-4b9e-b77d-c902b464458f",
    "outputId": "504eb27e-aa95-4b97-9b95-741f76f27f7d"
   },
   "outputs": [
    {
     "name": "stdout",
     "output_type": "stream",
     "text": [
      "<class 'pandas.core.frame.DataFrame'>\n",
      "RangeIndex: 398 entries, 0 to 397\n",
      "Data columns (total 9 columns):\n",
      " #   Column        Non-Null Count  Dtype  \n",
      "---  ------        --------------  -----  \n",
      " 0   name          398 non-null    object \n",
      " 1   mpg           398 non-null    float64\n",
      " 2   cylinders     395 non-null    float64\n",
      " 3   displacement  395 non-null    float64\n",
      " 4   horsepower    386 non-null    float64\n",
      " 5   weight        396 non-null    float64\n",
      " 6   acceleration  395 non-null    float64\n",
      " 7   model_year    398 non-null    int64  \n",
      " 8   origin        398 non-null    object \n",
      "dtypes: float64(6), int64(1), object(2)\n",
      "memory usage: 28.1+ KB\n"
     ]
    },
    {
     "data": {
      "text/plain": [
       "(398, 9)"
      ]
     },
     "execution_count": 18,
     "metadata": {},
     "output_type": "execute_result"
    }
   ],
   "source": [
    "ADF.info()\n",
    "ADF.shape"
   ]
  },
  {
   "cell_type": "code",
   "execution_count": 19,
   "id": "e39c2d2f-5d43-47b5-9a55-a6d7de8042b4",
   "metadata": {
    "id": "e39c2d2f-5d43-47b5-9a55-a6d7de8042b4",
    "outputId": "05454768-917f-4c8a-f934-22c665a59cb1"
   },
   "outputs": [
    {
     "data": {
      "text/plain": [
       "name             0\n",
       "mpg              0\n",
       "cylinders        3\n",
       "displacement     3\n",
       "horsepower      12\n",
       "weight           2\n",
       "acceleration     3\n",
       "model_year       0\n",
       "origin           0\n",
       "dtype: int64"
      ]
     },
     "execution_count": 19,
     "metadata": {},
     "output_type": "execute_result"
    }
   ],
   "source": [
    "ADF.isnull().sum()"
   ]
  },
  {
   "cell_type": "code",
   "execution_count": 20,
   "id": "4f2b7dd2-f510-4845-81e9-0490a1067a0b",
   "metadata": {
    "id": "4f2b7dd2-f510-4845-81e9-0490a1067a0b",
    "outputId": "6106dfa3-8279-4666-fa60-43453e810a11"
   },
   "outputs": [
    {
     "name": "stdout",
     "output_type": "stream",
     "text": [
      "<class 'pandas.core.frame.DataFrame'>\n",
      "RangeIndex: 398 entries, 0 to 397\n",
      "Data columns (total 8 columns):\n",
      " #   Column        Non-Null Count  Dtype  \n",
      "---  ------        --------------  -----  \n",
      " 0   name          398 non-null    object \n",
      " 1   mpg           398 non-null    float64\n",
      " 2   cylinders     395 non-null    float64\n",
      " 3   displacement  395 non-null    float64\n",
      " 4   weight        396 non-null    float64\n",
      " 5   acceleration  395 non-null    float64\n",
      " 6   model_year    398 non-null    int64  \n",
      " 7   origin        398 non-null    object \n",
      "dtypes: float64(5), int64(1), object(2)\n",
      "memory usage: 25.0+ KB\n"
     ]
    }
   ],
   "source": [
    "ADF.drop(\"horsepower\",axis=1,inplace=True)\n",
    "ADF.info()"
   ]
  },
  {
   "cell_type": "code",
   "execution_count": 21,
   "id": "8f07f657-0e3d-488f-9d75-495a427483b1",
   "metadata": {
    "id": "8f07f657-0e3d-488f-9d75-495a427483b1",
    "outputId": "e7853abc-0ee2-49a6-ffa8-b9f4a1d647f0"
   },
   "outputs": [],
   "source": [
    "for col in ADF.select_dtypes(include=[\"float64\", \"int64\"]).columns:\n",
    "    ADF[col] = ADF[col].fillna(ADF[col].median())\n"
   ]
  },
  {
   "cell_type": "code",
   "execution_count": 22,
   "id": "efd8eb42-ccf7-4867-9772-d914b3504b39",
   "metadata": {
    "id": "efd8eb42-ccf7-4867-9772-d914b3504b39",
    "outputId": "cafbc0e6-cf27-45ae-b4dd-f4ed0ba57155"
   },
   "outputs": [
    {
     "name": "stdout",
     "output_type": "stream",
     "text": [
      "Min-Max Scaled Data:\n",
      "        mpg  cylinders  displacement    weight  acceleration  model_year\n",
      "0  0.239362        1.0      0.617571  0.536150      0.238095         0.0\n",
      "1  0.159574        1.0      0.728682  0.589736      0.208333         0.0\n",
      "2  0.239362        1.0      0.645995  0.516870      0.178571         0.0\n",
      "3  0.186170        1.0      0.609819  0.516019      0.238095         0.0\n",
      "4  0.212766        0.2      0.604651  0.520556      0.148810         0.0 \n",
      "\n",
      "Standard Scaled Data:\n",
      "        mpg  cylinders  displacement    weight  acceleration  model_year\n",
      "0 -0.706439   1.515897      1.096516  0.641001     -1.301636   -1.627426\n",
      "1 -1.090751   1.515897      1.510055  0.865428     -1.484357   -1.627426\n",
      "2 -0.706439   1.515897      1.202305  0.560255     -1.667078   -1.627426\n",
      "3 -0.962647   1.515897      1.067664  0.556693     -1.301636   -1.627426\n",
      "4 -0.834543  -0.847774      1.048430  0.575692     -1.849799   -1.627426\n"
     ]
    }
   ],
   "source": [
    "from sklearn.preprocessing import MinMaxScaler, StandardScaler\n",
    "import pandas as pd\n",
    "\n",
    "numeric_cols = ADF.select_dtypes(include=[\"float64\", \"int64\"]).columns\n",
    "\n",
    "minmax_scaler = MinMaxScaler()\n",
    "ADF_minmax = pd.DataFrame(\n",
    "    minmax_scaler.fit_transform(ADF[numeric_cols]),\n",
    "    columns=numeric_cols\n",
    ")\n",
    "standard_scaler = StandardScaler()\n",
    "ADF_standard = pd.DataFrame(\n",
    "    standard_scaler.fit_transform(ADF[numeric_cols]),\n",
    "    columns=numeric_cols\n",
    ")\n",
    "print(\"Min-Max Scaled Data:\")\n",
    "print(ADF_minmax.head(), \"\\n\")\n",
    "\n",
    "print(\"Standard Scaled Data:\")\n",
    "print(ADF_standard.head())\n"
   ]
  },
  {
   "cell_type": "markdown",
   "id": "d8974447-b707-4b00-bc1b-f395c6167345",
   "metadata": {
    "id": "d8974447-b707-4b00-bc1b-f395c6167345"
   },
   "source": [
    "#### Option 2:This method scales the data to a fixed range, usually between 0 and 1. \n",
    "###  MinMaxScaler()"
   ]
  },
  {
   "cell_type": "code",
   "execution_count": 24,
   "id": "c446eae2-f4af-4ab1-8b43-0e347581e9a8",
   "metadata": {
    "id": "c446eae2-f4af-4ab1-8b43-0e347581e9a8",
    "outputId": "5951acaf-3dc0-48f5-a6d8-0212ee4970ee"
   },
   "outputs": [
    {
     "name": "stdout",
     "output_type": "stream",
     "text": [
      "0    12.0\n",
      "1    11.5\n",
      "2    11.0\n",
      "3    12.0\n",
      "4    10.5\n",
      "Name: acceleration, dtype: float64\n",
      "                        name   mpg  cylinders  displacement horsepower  \\\n",
      "0  chevrolet chevelle malibu  18.0          8         307.0      130.0   \n",
      "1          buick skylark 320  15.0          8         350.0      165.0   \n",
      "2         plymouth satellite  18.0          8         318.0      150.0   \n",
      "3              amc rebel sst  16.0          8         304.0      150.0   \n",
      "4                ford torino  17.0          8         302.0      140.0   \n",
      "\n",
      "   weight  model_year  origin  acceleration  \n",
      "0  3504.0          70       1          12.0  \n",
      "1  3693.0          70       1          11.5  \n",
      "2  3436.0          70       1          11.0  \n",
      "3  3433.0          70       1          12.0  \n",
      "4  3449.0          70       1          10.5  \n"
     ]
    }
   ],
   "source": [
    "import pandas as pd\n",
    "url = \"https://archive.ics.uci.edu/ml/machine-learning-databases/auto-mpg/auto-mpg.data\"\n",
    "column_names = [\n",
    "    'mpg', 'cylinders', 'displacement', 'horsepower', 'weight',\n",
    "    'acceleration', 'model_year', 'origin', 'name'\n",
    "]\n",
    "ADF = pd.read_csv(url, sep='\\s+', names=column_names)\n",
    "X = ADF[[\"name\", \"mpg\", \"cylinders\", \"displacement\", \"horsepower\", \"weight\", \"model_year\", \"origin\"]]\n",
    "Y = ADF[\"acceleration\"]\n",
    "print(Y.head())\n",
    "ADF = pd.concat([X, Y], axis=1)\n",
    "print(ADF.head())\n",
    "ADF.to_csv(\"NewAuto_0434_.csv\", index=False)\n",
    "\n"
   ]
  },
  {
   "cell_type": "markdown",
   "id": "7b341c0e-7aa3-48c3-84c4-9ef8a5139fad",
   "metadata": {
    "id": "7b341c0e-7aa3-48c3-84c4-9ef8a5139fad"
   },
   "source": []
  },
  {
   "cell_type": "code",
   "execution_count": null,
   "id": "cc8b49d2-38ea-442e-8ba5-9dbd9e797c0a",
   "metadata": {},
   "outputs": [],
   "source": []
  }
 ],
 "metadata": {
  "colab": {
   "provenance": []
  },
  "kernelspec": {
   "display_name": "Python [conda env:base] *",
   "language": "python",
   "name": "conda-base-py"
  },
  "language_info": {
   "codemirror_mode": {
    "name": "ipython",
    "version": 3
   },
   "file_extension": ".py",
   "mimetype": "text/x-python",
   "name": "python",
   "nbconvert_exporter": "python",
   "pygments_lexer": "ipython3",
   "version": "3.13.5"
  }
 },
 "nbformat": 4,
 "nbformat_minor": 5
}

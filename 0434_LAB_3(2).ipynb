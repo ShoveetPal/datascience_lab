{
 "cells": [
  {
   "cell_type": "code",
   "execution_count": null,
   "id": "6622e1cb-6cca-4d9b-846d-1b4302a4c56f",
   "metadata": {},
   "outputs": [],
   "source": []
  }
 ],
 "metadata": {
  "kernelspec": {
   "display_name": "",
   "name": ""
  },
  "language_info": {
   "name": ""
  }
 },
 "nbformat": 4,
 "nbformat_minor": 5
}
